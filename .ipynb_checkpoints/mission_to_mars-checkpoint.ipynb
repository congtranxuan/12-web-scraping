{
 "cells": [
  {
   "cell_type": "code",
   "execution_count": 1,
   "metadata": {},
   "outputs": [],
   "source": [
    "import pandas as pd\n",
    "from splinter import Browser\n",
    "from bs4 import BeautifulSoup\n",
    "import time"
   ]
  },
  {
   "cell_type": "code",
   "execution_count": 2,
   "metadata": {},
   "outputs": [],
   "source": [
    "def init_browser():\n",
    "    # @NOTE: Replace the path with your actual path to the chromedriver\n",
    "    executable_path = {\"executable_path\": \"chromedriver.exe\"}\n",
    "    return Browser(\"chrome\", **executable_path, headless=False)"
   ]
  },
  {
   "cell_type": "code",
   "execution_count": 3,
   "metadata": {},
   "outputs": [],
   "source": [
    "def scrape_news():\n",
    "    browser = init_browser()\n",
    "    url=\"https://mars.nasa.gov/news/?page=0&per_page=40&order=publish_date+desc%2Ccreated_at+desc&search=&category=19%2C165%2C184%2C204&blank_scope=Latest\"\n",
    "    browser.visit(url)\n",
    "    time.sleep(1)\n",
    "    html = browser.html\n",
    "    soup = BeautifulSoup(html, \"html.parser\")\n",
    "\n",
    "    headlines= soup.find_all(\"li\", class_=\"slide\")\n",
    "    news_title=headlines[0].find(\"h3\").text\n",
    "    news_p=headlines[0].a.text\n",
    "    results = {\"title\":news_title,\"p\":news_p}\n",
    "   \n",
    "    # Close the browser after scraping\n",
    "    browser.quit()\n",
    "\n",
    "    return results"
   ]
  },
  {
   "cell_type": "code",
   "execution_count": 4,
   "metadata": {},
   "outputs": [],
   "source": [
    "def scrape_image():\n",
    "    browser = init_browser()\n",
    "    url=\"https://www.jpl.nasa.gov/spaceimages/?search=&category=Mars\"\n",
    "    browser.visit(url)\n",
    "    time.sleep(1)\n",
    "    html = browser.html\n",
    "    soup = BeautifulSoup(html, \"html.parser\")\n",
    "\n",
    "    results = soup.find_all(\"article\", class_=\"carousel_item\")\n",
    "    image_url=results[0].find(\"a\")[\"data-fancybox-href\"]\n",
    "    featured_image_url = \"https://www.jpl.nasa.gov\"+ image_url\n",
    "    \n",
    "    # Close the browser after scraping\n",
    "    browser.quit()\n",
    "\n",
    "    return featured_image_url"
   ]
  },
  {
   "cell_type": "code",
   "execution_count": 5,
   "metadata": {},
   "outputs": [],
   "source": [
    "def scrape_tweets():\n",
    "    browser = init_browser()\n",
    "    url=\"https://twitter.com/marswxreport?lang=en\"\n",
    "    browser.visit(url)\n",
    "    time.sleep(1)\n",
    "    html = browser.html\n",
    "    soup = BeautifulSoup(html, \"html.parser\")\n",
    "\n",
    "    results = soup.find_all(class_=\"TweetTextSize TweetTextSize--normal js-tweet-text tweet-text\")\n",
    "    mars_weather = results[0].text\n",
    "    \n",
    "    # Close the browser after scraping\n",
    "    browser.quit()\n",
    "\n",
    "    return mars_weather\n"
   ]
  },
  {
   "cell_type": "code",
   "execution_count": 6,
   "metadata": {},
   "outputs": [],
   "source": [
    "def scrape_facts():\n",
    "    browser = init_browser()\n",
    "    url=\"https://space-facts.com/mars/\"\n",
    "    browser.visit(url)\n",
    "    time.sleep(1)\n",
    "    html = browser.html\n",
    "    soup = BeautifulSoup(html, \"html.parser\")\n",
    "\n",
    "    results=soup.find_all(\"table\", class_=\"tablepress tablepress-id-p-mars\")\n",
    "    result = str(results[0])\n",
    "    with open(\"facts_table.html\", \"w\") as file:\n",
    "        file.write(str(result))\n",
    "    #Close the browser after scraping\n",
    "    browser.quit()\n",
    "    return result"
   ]
  },
  {
   "cell_type": "code",
   "execution_count": 7,
   "metadata": {},
   "outputs": [],
   "source": [
    "def scrape_hemispheres():\n",
    "    browser = init_browser()\n",
    "    url=\"https://astrogeology.usgs.gov/search/results?q=hemisphere+enhanced&k1=target&v1=Mars\"\n",
    "    browser.visit(url)\n",
    "    time.sleep(1)\n",
    "    html = browser.html\n",
    "    soup = BeautifulSoup(html, \"html.parser\")\n",
    "    results=soup.find_all(\"h3\")\n",
    "    #results:\n",
    "    #[<h3>Cerberus Hemisphere Enhanced</h3>,\n",
    "     #<h3>Schiaparelli Hemisphere Enhanced</h3>,\n",
    "     #<h3>Syrtis Major Hemisphere Enhanced</h3>,\n",
    "     #<h3>Valles Marineris Hemisphere Enhanced</h3>]\n",
    "    \n",
    "    hemisphere_image_urls=[]\n",
    "    \n",
    "    #Get the link of the image in each name\n",
    "    for result in results:\n",
    "        title=result.text\n",
    "        \n",
    "        #name =text_str.split(' Hemisphere ')[0].lower().replace(\" \",\"_\")\n",
    "        #enhanced =text_str.split(' Hemisphere ')[1].lower()\n",
    "        #link_name = name+\"_\"+ enhanced\n",
    "        \n",
    "        #Click the according links to get the image's link\n",
    "        url=\"https://astrogeology.usgs.gov/search/results?q=hemisphere+enhanced&k1=target&v1=Mars\"\n",
    "        browser.visit(url)\n",
    "        time.sleep(1)\n",
    "        \n",
    "        browser.click_link_by_partial_text(title)\n",
    "        \n",
    "        html = browser.html\n",
    "        soup = BeautifulSoup(html, \"html.parser\")\n",
    "        \n",
    "        #Get the relative link in the webpage\n",
    "        link = soup.find(\"img\", class_=\"wide-image\")\n",
    "        #Create a complete link of the image\n",
    "        img_url = \"https://astrogeology.usgs.gov\" + link[\"src\"]\n",
    "        \n",
    "        info_dict = {\"title\":title,\"img_url\":img_url}\n",
    "        hemisphere_image_urls.append(info_dict)\n",
    "        \n",
    "    #Close the browser after scraping\n",
    "    browser.quit()\n",
    "    return hemisphere_image_urls"
   ]
  }
 ],
 "metadata": {
  "kernelspec": {
   "display_name": "Python 3",
   "language": "python",
   "name": "python3"
  },
  "language_info": {
   "codemirror_mode": {
    "name": "ipython",
    "version": 3
   },
   "file_extension": ".py",
   "mimetype": "text/x-python",
   "name": "python",
   "nbconvert_exporter": "python",
   "pygments_lexer": "ipython3",
   "version": "3.7.3"
  }
 },
 "nbformat": 4,
 "nbformat_minor": 2
}
